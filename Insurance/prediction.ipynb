{
  "nbformat": 4,
  "nbformat_minor": 0,
  "metadata": {
    "colab": {
      "provenance": []
    },
    "kernelspec": {
      "name": "python3",
      "display_name": "Python 3"
    },
    "language_info": {
      "name": "python"
    }
  },
  "cells": [
    {
      "cell_type": "code",
      "execution_count": 48,
      "metadata": {
        "id": "r5VfmMztrybB"
      },
      "outputs": [],
      "source": [
        "import tensorflow as tf\n",
        "import joblib\n",
        "from keras.models import load_model\n",
        "import numpy as np\n",
        "import pandas as pd"
      ]
    },
    {
      "cell_type": "code",
      "source": [
        "from google.colab import drive\n",
        "drive.mount('/content/drive')"
      ],
      "metadata": {
        "colab": {
          "base_uri": "https://localhost:8080/"
        },
        "id": "6OMHJ5DhukZS",
        "outputId": "43859b9b-73e3-45ff-97c6-c1f8d96cc6f2"
      },
      "execution_count": 5,
      "outputs": [
        {
          "output_type": "stream",
          "name": "stdout",
          "text": [
            "Mounted at /content/drive\n"
          ]
        }
      ]
    },
    {
      "cell_type": "code",
      "source": [
        "pipeline_path = '/content/drive/My Drive/Colab Notebooks/processing_pipeline.pkl'\n",
        "model_path = '/content/drive/My Drive/Colab Notebooks/trained_model.keras'\n",
        "\n",
        "# to verify\n",
        "print(f'Pipeline Path: {pipeline_path}')\n",
        "print(f'Model Path: {model_path}')"
      ],
      "metadata": {
        "colab": {
          "base_uri": "https://localhost:8080/"
        },
        "id": "HwMswj8gyIry",
        "outputId": "898080cb-34c9-4e28-995a-5ca8392b7c2b"
      },
      "execution_count": 13,
      "outputs": [
        {
          "output_type": "stream",
          "name": "stdout",
          "text": [
            "Pipeline Path: /content/drive/My Drive/Colab Notebooks/processing_pipeline.pkl\n",
            "Model Path: /content/drive/My Drive/Colab Notebooks/trained_model.keras\n"
          ]
        }
      ]
    },
    {
      "cell_type": "code",
      "source": [
        "processing_pipeline = joblib.load(pipeline_path)\n",
        "neural_net = tf.keras.models.load_model(model_path, compile=False)\n",
        "print(\"Pipeline and model loaded successfully!\")"
      ],
      "metadata": {
        "colab": {
          "base_uri": "https://localhost:8080/"
        },
        "id": "FHMrRYbsyOW_",
        "outputId": "1c6636fd-3925-4252-8c22-92b08a89125e"
      },
      "execution_count": 71,
      "outputs": [
        {
          "output_type": "stream",
          "name": "stdout",
          "text": [
            "Pipeline and model loaded successfully!\n"
          ]
        }
      ]
    },
    {
      "cell_type": "code",
      "source": [
        "def log_transformation(x):\n",
        "    return np.log(x+0.01)\n",
        "\n",
        "processing_pipeline = joblib.load(pipeline_path)\n",
        "neural_net = load_model(model_path)"
      ],
      "metadata": {
        "id": "R3bVdqL86xBK"
      },
      "execution_count": 49,
      "outputs": []
    },
    {
      "cell_type": "code",
      "source": [
        "import ipywidgets as widgets\n",
        "from IPython.display import display\n",
        "output = widgets.Output()\n",
        "\n",
        "# @title # Please enter the patient's information { run: \"auto\" }\n",
        "# @markdown #### Age\n",
        "age = 33 # @param {type:\"slider\", min:10, max:100, step:1}\n",
        "# @markdown #### Biological sex\n",
        "sex = \"male\"  # @param ['male', 'female'] {type:\"string\"}\n",
        "# @markdown #### \t\tBody mass index during encounter\n",
        "bmi = 26 # @param {type:\"slider\", min:0, max:60, step:1}\n",
        "# @markdown #### Number of children\n",
        "children = 1 # @param {type:\"slider\", min:0, max:25, step:1}\n",
        "# @markdown #### Smoking status\n",
        "smoker = \"no\" # @param ['yes', 'no'] {type:\"string\"}\n",
        "# @markdown #### Region\n",
        "region = \"southeast\" # @param ['northwest', 'southwest', 'northeast', 'southeast'] {type:\"string\"}\n",
        "\n",
        "patient = {\n",
        "    'age' : [age],\n",
        "    'sex' : [sex],\n",
        "    'bmi' : [bmi],\n",
        "    'children' : [children],\n",
        "    'smoker' : [smoker],\n",
        "    'region' : [region],\n",
        "    'charges': [0],\n",
        "}\n",
        "\n",
        "# Convert to DataFrame\n",
        "patient_df = pd.DataFrame(patient)\n",
        "patient_process = processing_pipeline.transform(pd.DataFrame(patient))\n",
        "charge = neural_net.predict(patient_process, verbose=0)[0,0]\n",
        "\n",
        "from IPython.display import Markdown\n",
        "display(Markdown('## Predicted insurance charge: $' + str(np.round(charge,2))))\n"
      ],
      "metadata": {
        "colab": {
          "base_uri": "https://localhost:8080/",
          "height": 64
        },
        "id": "DdMOinNS6yYv",
        "outputId": "f426ac21-1c2d-4b9f-f32d-73b1ba91ff2d"
      },
      "execution_count": 76,
      "outputs": [
        {
          "output_type": "display_data",
          "data": {
            "text/plain": [
              "<IPython.core.display.Markdown object>"
            ],
            "text/markdown": "## Predicted insurance charge: $364.32"
          },
          "metadata": {}
        }
      ]
    },
    {
      "cell_type": "code",
      "source": [
        "import ipywidgets as widgets\n",
        "from IPython.display import display, Markdown\n",
        "import pandas as pd\n",
        "import numpy as np\n",
        "\n",
        "output = widgets.Output()\n",
        "\n",
        "# Patient information inputs\n",
        "age = 29  # @param {type:\"slider\", min:10, max:100, step:1}\n",
        "sex = \"female\"  # @param ['male', 'female'] {type:\"string\"}\n",
        "bmi = 22  # @param {type:\"slider\", min:0, max:60, step:1}\n",
        "children = 2  # @param {type:\"slider\", min:0, max:25, step:1}\n",
        "smoker = \"yes\"  # @param ['yes', 'no'] {type:\"string\"}\n",
        "region = \"southwest\"  # @param ['northwest', 'southwest', 'northeast', 'southeast'] {type:\"string\"}\n",
        "\n",
        "def predict_length_of_stay(age, sex, bmi, children, smoker, region):\n",
        "\n",
        "    patient = {\n",
        "        'age': [age],\n",
        "        'sex': [sex],\n",
        "        'bmi': [bmi],\n",
        "        'children': [children],\n",
        "        'smoker': [smoker],\n",
        "        'region': [region],\n",
        "        'charges': [0],\n",
        "    }\n",
        "\n",
        "    # Convert to DataFrame\n",
        "    patient_df = pd.DataFrame(patient)\n",
        "    patient_process = processing_pipeline.transform(patient_df)\n",
        "\n",
        "    # Make a prediction for length of stay\n",
        "    length_of_stay = neural_net.predict(patient_process, verbose=0)[0, 0]\n",
        "\n",
        "    return length_of_stay\n",
        "\n",
        "# Predict length of stay with the updated patient details\n",
        "length_of_stay = predict_length_of_stay(age, sex, bmi, children, smoker, region)\n",
        "\n",
        "# Display the result\n",
        "display(Markdown('## Predicted length of stay: ' + str(np.round(length_of_stay, 2)) + ' days'))"
      ],
      "metadata": {
        "colab": {
          "base_uri": "https://localhost:8080/",
          "height": 64
        },
        "id": "6DQfVLpJ8VlC",
        "outputId": "64878f82-65b0-4b3c-8154-851f610e580d"
      },
      "execution_count": 77,
      "outputs": [
        {
          "output_type": "display_data",
          "data": {
            "text/plain": [
              "<IPython.core.display.Markdown object>"
            ],
            "text/markdown": "## Predicted length of stay: 364.32 days"
          },
          "metadata": {}
        }
      ]
    }
  ]
}